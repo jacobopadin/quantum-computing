{
 "cells": [
  {
   "cell_type": "markdown",
   "metadata": {},
   "source": [
    "### Code generation routine"
   ]
  },
  {
   "cell_type": "code",
   "execution_count": 10,
   "metadata": {},
   "outputs": [
    {
     "ename": "ModuleNotFoundError",
     "evalue": "No module named 'pennylane'",
     "output_type": "error",
     "traceback": [
      "\u001b[1;31m---------------------------------------------------------------------------\u001b[0m",
      "\u001b[1;31mModuleNotFoundError\u001b[0m                       Traceback (most recent call last)",
      "Cell \u001b[1;32mIn[10], line 6\u001b[0m\n\u001b[0;32m      3\u001b[0m \u001b[38;5;28;01mfrom\u001b[39;00m \u001b[38;5;21;01mfractions\u001b[39;00m \u001b[38;5;28;01mimport\u001b[39;00m Fraction\n\u001b[0;32m      4\u001b[0m \u001b[38;5;28;01mimport\u001b[39;00m \u001b[38;5;21;01mtime\u001b[39;00m\n\u001b[1;32m----> 6\u001b[0m \u001b[38;5;28;01mimport\u001b[39;00m \u001b[38;5;21;01mpennylane\u001b[39;00m \u001b[38;5;28;01mas\u001b[39;00m \u001b[38;5;21;01mqml\u001b[39;00m\n",
      "\u001b[1;31mModuleNotFoundError\u001b[0m: No module named 'pennylane'"
     ]
    }
   ],
   "source": [
    "import numpy as np\n",
    "import matplotlib.pyplot as plt\n",
    "from fractions import Fraction\n",
    "import time\n",
    "\n",
    "import pennylane as qml\n"
   ]
  },
  {
   "cell_type": "markdown",
   "metadata": {},
   "source": [
    "Encrypt and decrypt functions"
   ]
  },
  {
   "cell_type": "code",
   "execution_count": 4,
   "metadata": {},
   "outputs": [
    {
     "name": "stdout",
     "output_type": "stream",
     "text": [
      "e, d, N =  (3, 62915771, 94393087)\n"
     ]
    }
   ],
   "source": [
    "def create_keys(p, q):\n",
    "    \n",
    "    N=p*q\n",
    "    Theta=(p-1)*(q-1)\n",
    "    \n",
    "    gcd=0\n",
    "    e=1\n",
    "    while gcd!=1:\n",
    "       e+=1\n",
    "       gcd=np.gcd(e,Theta) \n",
    "       # it searchs for a number that is coprime with Theta\n",
    "           \n",
    "    resto=0\n",
    "    d=0\n",
    "    while resto!=1:\n",
    "        d+=1\n",
    "        resto = d*e % Theta\n",
    "        # it searchs for a number d that satisfies the equation d*e mod Theta = 1\n",
    "        \n",
    "    return (e,d,N)\n",
    "\n",
    "print(\"e, d, N = \", create_keys(9803,9629))\n"
   ]
  },
  {
   "cell_type": "code",
   "execution_count": 2,
   "metadata": {},
   "outputs": [],
   "source": [
    "def encode(e, N, message):\n",
    "    \n",
    "    encoded_message = [ord(char)**e % N for char in message]\n",
    "    # ord(char) returns the ASCII code of the character char\n",
    "    # encoded_message is a list of integers (the encoded message in ASCII code)\n",
    "    return encoded_message\n",
    "\n",
    "def decode(d,N, code):\n",
    "    \n",
    "    message = [chr(character**d % N) for character in code]    \n",
    "    # chr(character) returns the character with ASCII code equal to character\n",
    "    # message is a list of characters (the decoded message)\n",
    "    return ''.join(message)\n"
   ]
  },
  {
   "cell_type": "markdown",
   "metadata": {},
   "source": [
    "Now we generate two lists with prime numbers, and we will use it to generate the keys, encode a message, and then decode it."
   ]
  },
  {
   "cell_type": "code",
   "execution_count": 5,
   "metadata": {},
   "outputs": [
    {
     "name": "stdout",
     "output_type": "stream",
     "text": [
      "List p: [23, 83, 47, 19, 73, 53, 97, 31, 37, 53]\n",
      "List q: [37, 83, 89, 97, 53, 11, 17, 29, 29, 41]\n",
      "Encoded message:  [731, 333, 719, 526]\n",
      "Decoded message:  hola\n",
      "Encoded message:  [463, 787, 1681, 171]\n",
      "Decoded message:  hola\n",
      "Encoded message:  [1061, 235, 807, 1758]\n",
      "Decoded message:  hola\n",
      "Encoded message:  [317, 1414, 1777, 388]\n",
      "Decoded message:  hola\n",
      "Encoded message:  [946, 1132, 485, 861]\n",
      "Decoded message:  hola\n",
      "Encoded message:  [26, 166, 25, 102]\n",
      "Decoded message:  hola\n",
      "Encoded message:  [348, 304, 301, 79]\n",
      "Decoded message:  hola\n",
      "Encoded message:  [302, 281, 416, 217]\n",
      "Decoded message:  hola\n",
      "Encoded message:  [302, 281, 416, 217]\n",
      "Decoded message:  hola\n",
      "Encoded message:  [808, 281, 807, 792]\n",
      "Decoded message:  hola\n",
      "Encoded message:  [916, 1480, 1422, 1229]\n",
      "Decoded message:  hola\n",
      "Encoded message:  [1957, 3609, 5914, 3325]\n",
      "Decoded message:  ͓᠚ชх\n",
      "Encoded message:  [2040, 1036, 3922, 4072]\n",
      "Decoded message:  hola\n",
      "Encoded message:  [2742, 7622, 4493, 6790]\n",
      "Decoded message:  hola\n",
      "Encoded message:  [3119, 3941, 1598, 2080]\n",
      "Decoded message:  hola\n",
      "Encoded message:  [48, 870, 685, 586]\n",
      "Decoded message:  hola\n",
      "Encoded message:  [297, 372, 1100, 1167]\n",
      "Decoded message:  hola\n",
      "Encoded message:  [795, 455, 851, 420]\n",
      "Decoded message:  hola\n",
      "Encoded message:  [795, 455, 851, 420]\n",
      "Decoded message:  hola\n",
      "Encoded message:  [1874, 3028, 602, 669]\n",
      "Decoded message:  hola\n",
      "Encoded message:  [1582, 222, 238, 8]\n",
      "Decoded message:  hola\n",
      "Encoded message:  [1376, 2281, 3590, 3740]\n",
      "Decoded message:  hola\n",
      "Encoded message:  [3820, 3973, 629, 779]\n",
      "Decoded message:  hola\n",
      "Encoded message:  [3227, 2384, 2165, 3298]\n",
      "Decoded message:  hola\n",
      "Encoded message:  [1423, 72, 1757, 967]\n",
      "Decoded message:  hola\n",
      "Encoded message:  [389, 166, 300, 168]\n",
      "Decoded message:  hola\n",
      "Encoded message:  [671, 542, 488, 215]\n",
      "Decoded message:  hola\n",
      "Encoded message:  [389, 542, 300, 826]\n",
      "Decoded message:  hola\n",
      "Encoded message:  [389, 542, 300, 826]\n",
      "Decoded message:  hola\n",
      "Encoded message:  [1423, 1388, 1381, 1202]\n",
      "Decoded message:  hola\n",
      "Encoded message:  [472, 555, 90, 526]\n",
      "Decoded message:  hola\n",
      "Encoded message:  [833, 650, 1173, 1229]\n",
      "Decoded message:  hola\n",
      "Encoded message:  [472, 1600, 831, 906]\n",
      "Decoded message:  hola\n",
      "Encoded message:  [1384, 1220, 128, 1552]\n",
      "Decoded message:  hola\n",
      "Encoded message:  [339, 422, 774, 735]\n",
      "Decoded message:  hola\n",
      "Encoded message:  [80, 188, 48, 147]\n",
      "Decoded message:  hola\n",
      "Encoded message:  [168, 42, 109, 241]\n",
      "Decoded message:  hola\n",
      "Encoded message:  [510, 384, 147, 298]\n",
      "Decoded message:  hola\n",
      "Encoded message:  [510, 384, 147, 298]\n",
      "Decoded message:  hola\n",
      "Encoded message:  [175, 511, 48, 280]\n",
      "Decoded message:  hola\n",
      "Encoded message:  [1471, 1406, 127, 2339]\n",
      "Decoded message:  hola\n",
      "Encoded message:  [2493, 5713, 5821, 4383]\n",
      "Decoded message:  hola\n",
      "Encoded message:  [6435, 1333, 3412, 1974]\n",
      "Decoded message:  hola\n",
      "Encoded message:  [4391, 3742, 419, 6208]\n",
      "Decoded message:  hola\n",
      "Encoded message:  [1982, 3231, 2682, 1901]\n",
      "Decoded message:  hola\n",
      "Encoded message:  [278, 353, 158, 268]\n",
      "Decoded message:  hola\n",
      "Encoded message:  [814, 603, 857, 3]\n",
      "Decoded message:  hola\n",
      "Encoded message:  [887, 384, 930, 733]\n",
      "Decoded message:  hola\n",
      "Encoded message:  [887, 384, 930, 733]\n",
      "Decoded message:  hola\n",
      "Encoded message:  [1446, 2397, 2713, 2166]\n",
      "Decoded message:  hola\n",
      "Encoded message:  [657, 740, 1940, 1636]\n",
      "Decoded message:  hola\n",
      "Encoded message:  [3119, 3941, 1598, 2080]\n",
      "Decoded message:  hola\n",
      "Encoded message:  [2218, 4418, 273, 2292]\n",
      "Decoded message:  hola\n",
      "Encoded message:  [2936, 2966, 4590, 4074]\n",
      "Decoded message:  hola\n",
      "Encoded message:  [1264, 2457, 1280, 2557]\n",
      "Decoded message:  च܏ћࠊ\n",
      "Encoded message:  [257, 496, 432, 278]\n",
      "Decoded message:  hola\n",
      "Encoded message:  [416, 814, 114, 861]\n",
      "Decoded message:  hola\n",
      "Encoded message:  [1317, 1238, 909, 1232]\n",
      "Decoded message:  hola\n",
      "Encoded message:  [1317, 1238, 909, 1232]\n",
      "Decoded message:  hola\n",
      "Encoded message:  [1423, 814, 1545, 13]\n",
      "Decoded message:  hola\n",
      "Encoded message:  [2063, 444, 904, 970]\n",
      "Decoded message:  hola\n",
      "Encoded message:  [2742, 7622, 4493, 6790]\n",
      "Decoded message:  hola\n",
      "Encoded message:  [7592, 1511, 1098, 194]\n",
      "Decoded message:  hola\n",
      "Encoded message:  [5167, 3451, 7597, 0]\n",
      "Decoded message:  ྐ₤ᱶ\u0000\n",
      "Encoded message:  [2936, 2966, 4590, 4074]\n",
      "Decoded message:  hola\n",
      "Encoded message:  [498, 694, 356, 873]\n",
      "Decoded message:  hola\n",
      "Encoded message:  [899, 1317, 1486, 1261]\n",
      "Decoded message:  hola\n",
      "Encoded message:  [220, 2675, 31, 2328]\n",
      "Decoded message:  hola\n",
      "Encoded message:  [220, 2675, 31, 2328]\n",
      "Decoded message:  hola\n",
      "Encoded message:  [1856, 306, 1811, 485]\n",
      "Decoded message:  hola\n",
      "Encoded message:  [447, 629, 736, 791]\n",
      "Decoded message:  hola\n",
      "Encoded message:  [1904, 2055, 1480, 2093]\n",
      "Decoded message:  hola\n",
      "Encoded message:  [1625, 1435, 2286, 1380]\n",
      "Decoded message:  hola\n",
      "Encoded message:  [13, 1373, 550, 388]\n",
      "Decoded message:  hola\n",
      "Encoded message:  [137, 1063, 1294, 16]\n",
      "Decoded message:  hola\n",
      "Encoded message:  [168, 133, 147, 202]\n",
      "Decoded message:  hola\n",
      "Encoded message:  [230, 257, 116, 109]\n",
      "Decoded message:  hola\n",
      "Encoded message:  [737, 741, 635, 872]\n",
      "Decoded message:  hola\n",
      "Encoded message:  [737, 741, 635, 872]\n",
      "Decoded message:  hola\n",
      "Encoded message:  [1036, 1249, 581, 977]\n",
      "Decoded message:  hola\n",
      "Encoded message:  [139, 0, 904, 267]\n",
      "Decoded message:  \u0000ŊƮ\n",
      "Encoded message:  [916, 1480, 1422, 1229]\n",
      "Decoded message:  hola\n",
      "Encoded message:  [472, 888, 386, 3042]\n",
      "Decoded message:  hola\n",
      "Encoded message:  [2063, 444, 904, 970]\n",
      "Decoded message:  hola\n",
      "Encoded message:  [657, 740, 1940, 1636]\n",
      "Decoded message:  hola\n",
      "Encoded message:  [3, 111, 70, 125]\n",
      "Decoded message:  hola\n",
      "Encoded message:  [287, 518, 534, 156]\n",
      "Decoded message:  hola\n",
      "Encoded message:  [916, 703, 756, 8]\n",
      "Decoded message:  hola\n",
      "Encoded message:  [916, 703, 756, 8]\n",
      "Decoded message:  hola\n",
      "Encoded message:  [1446, 962, 1032, 1346]\n",
      "Decoded message:  hola\n",
      "Encoded message:  [657, 740, 1940, 1636]\n",
      "Decoded message:  hola\n",
      "Encoded message:  [3119, 3941, 1598, 2080]\n",
      "Decoded message:  hola\n",
      "Encoded message:  [2218, 4418, 273, 2292]\n",
      "Decoded message:  hola\n",
      "Encoded message:  [2936, 2966, 4590, 4074]\n",
      "Decoded message:  hola\n",
      "Encoded message:  [1264, 2457, 1280, 2557]\n",
      "Decoded message:  च܏ћࠊ\n",
      "Encoded message:  [257, 496, 432, 278]\n",
      "Decoded message:  hola\n",
      "Encoded message:  [416, 814, 114, 861]\n",
      "Decoded message:  hola\n",
      "Encoded message:  [1317, 1238, 909, 1232]\n",
      "Decoded message:  hola\n",
      "Encoded message:  [1317, 1238, 909, 1232]\n",
      "Decoded message:  hola\n",
      "Encoded message:  [1423, 814, 1545, 13]\n",
      "Decoded message:  hola\n"
     ]
    }
   ],
   "source": [
    "import random\n",
    "import sympy\n",
    "\n",
    "P=[]\n",
    "Q=[]\n",
    "\n",
    "for i in range(10):\n",
    "    P.append(sympy.randprime(1, 100))\n",
    "    Q.append(sympy.randprime(1, 100))\n",
    "\n",
    "\n",
    "print(\"List p:\", P)\n",
    "print(\"List q:\", Q)\n",
    "\n",
    "for p in P:\n",
    "    for q in Q:\n",
    "        e,d,N=create_keys(p,q)\n",
    "        message = encode(e,N,\"hola\")\n",
    "        print(\"Encoded message: \", message)\n",
    "        print(\"Decoded message: \", decode(d,N,message))"
   ]
  },
  {
   "cell_type": "code",
   "execution_count": 6,
   "metadata": {},
   "outputs": [],
   "source": [
    "p = 9803\n",
    "q = 9629"
   ]
  },
  {
   "cell_type": "code",
   "execution_count": 7,
   "metadata": {},
   "outputs": [
    {
     "name": "stdout",
     "output_type": "stream",
     "text": [
      "Factors of 15:  [9629 9803]\n",
      "Factors of 2*3*5*7:  [2 3 5 7]\n"
     ]
    }
   ],
   "source": [
    "def classical_factoring(N):    \n",
    "\n",
    "        f=2\n",
    "        factors=[]\n",
    "        while N > 1:   \n",
    "            if N % f == 0:      \n",
    "                factors.append(f)\n",
    "                N //= f    \n",
    "            else:            \n",
    "                f += 1 \n",
    "        # returns a list of prime factors of N\n",
    "        return np.array(factors)\n",
    "    \n",
    "print(\"Factors of 15: \", classical_factoring(p*q))\n",
    "print(\"Factors of 2*3*5*7: \", classical_factoring(2*3*5*7))"
   ]
  },
  {
   "cell_type": "markdown",
   "metadata": {},
   "source": [
    "### Running time of factoring numbers"
   ]
  },
  {
   "cell_type": "code",
   "execution_count": 11,
   "metadata": {},
   "outputs": [
    {
     "data": {
      "image/png": "[encoded data removed]",
      "text/plain": [
       "<Figure size 640x480 with 1 Axes>"
      ]
     },
     "metadata": {},
     "output_type": "display_data"
    }
   ],
   "source": [
    "numbers=np.arange(1.,75000.)\n",
    "running_time=np.zeros(len(numbers))\n",
    "\n",
    "n_bits=np.log2(numbers)\n",
    "\n",
    "for i in range(len(numbers)):\n",
    "    \n",
    "    start = time.time()\n",
    "    factors=classical_factoring(numbers[i])\n",
    "    end = time.time()\n",
    "    \n",
    "    running_time[i]=end-start\n",
    "    \n",
    "plt.scatter(n_bits, running_time, s = 0.3)\n",
    "plt.xlabel('Number of bits')\n",
    "plt.ylabel('Running time')\n",
    "plt.show()"
   ]
  },
  {
   "cell_type": "markdown",
   "metadata": {},
   "source": [
    "### Quantum functions"
   ]
  },
  {
   "cell_type": "code",
   "execution_count": 12,
   "metadata": {},
   "outputs": [],
   "source": [
    "estimation_wires = 8\n",
    "target_wires = 6\n",
    "\n",
    "def get_state(a, N, target_wires, estimation_wires):\n",
    "        \n",
    "    # a (int): Random guess\n",
    "    # N (int): Number to factorize\n",
    "        \n",
    "    vec = np.zeros( 2**(target_wires+estimation_wires) )\n",
    "    \n",
    "    #  |i>|x^i mod (N)>\n",
    "    for i in range(2**estimation_wires):\n",
    "        #  |j>\n",
    "        s1 = np.binary_repr(i, estimation_wires) # return the binary representation of i in estimation_wires bits\n",
    "        # |a^i mod (N)> \n",
    "        s2 = np.binary_repr(a**i % N, target_wires)\n",
    "    \n",
    "        # Set state       \n",
    "        vec[int(s2+s1,2)] = 1 # convert the binary string s2+s1 to an integer in base 2\n",
    "        \n",
    "    return vec/np.linalg.norm(vec)\n",
    "\n",
    "\n",
    "def get_period(a,N):\n",
    "    \n",
    "    dev = qml.device('default.qubit',shots= 50, wires=estimation_wires+target_wires)\n",
    "    \n",
    "    \n",
    "    @qml.qnode(dev)\n",
    "    def circuit(a,N):\n",
    "        #STATE PREPARATION\n",
    "        state = get_state(a,N,target_wires,estimation_wires)\n",
    "        qml.QubitStateVector(state, wires=range(estimation_wires+target_wires))      \n",
    "        # QFT^+\n",
    "        qml.adjoint(qml.QFT(wires=range(estimation_wires)))\n",
    "        \n",
    "        return qml.sample(wires=range(estimation_wires))\n",
    "    \n",
    "    # Outcomes\n",
    "    phases = []\n",
    "    periods = []\n",
    "    \n",
    "    result = circuit(a,N)\n",
    "    \n",
    "    # Binary output to decimal\n",
    "    for output in result:\n",
    "        binary = \"\".join([str(b) for b in output])\n",
    "        phases.append(int(binary,2)/2**estimation_wires)\n",
    "    \n",
    "    # Denominator for each phase\n",
    "    for phase in phases:\n",
    "        fraction = Fraction(phase).limit_denominator(N)\n",
    "        # Possibles r\n",
    "        for i in range(1,6):\n",
    "            periods.append(fraction.denominator*i)\n",
    "    \n",
    "    # Best candidate for r\n",
    "    best = np.argmax(np.bincount(periods))\n",
    "    return best"
   ]
  },
  {
   "cell_type": "markdown",
   "metadata": {},
   "source": [
    "Funcions needed for the Shor's algorythm"
   ]
  },
  {
   "cell_type": "code",
   "execution_count": 13,
   "metadata": {},
   "outputs": [],
   "source": [
    "def is_coprime(a, N):      \n",
    "    return np.gcd(a,N)==1\n",
    "\n",
    "def is_odd(r):\n",
    "    return r/2!=int(r/2)\n",
    "\n",
    "def is_not_one(x, N):\n",
    "    # return if x^2 mod N is not 1 or -1\n",
    "    return (x**2 % N)!=1 and (x**2 % N)!=-1"
   ]
  },
  {
   "cell_type": "code",
   "execution_count": 14,
   "metadata": {},
   "outputs": [
    {
     "data": {
      "text/plain": [
       "array([3., 3.])"
      ]
     },
     "execution_count": 14,
     "metadata": {},
     "output_type": "execute_result"
    }
   ],
   "source": [
    "import numpy as np\n",
    "import sympy\n",
    "\n",
    "def shor_algorithm(N):\n",
    "    p=0\n",
    "    q=0\n",
    "    do_they_work=False\n",
    "    while p <= 1 or q<=1 or do_they_work==False:\n",
    "        a=np.random.choice(range(2,N-2))\n",
    "        if not is_coprime(a, N):\n",
    "            p=np.gcd(a,N)\n",
    "            q=N/p\n",
    "            break\n",
    "    \n",
    "        r=get_period(a,N)\n",
    "        if is_odd(r):continue\n",
    "        x=a**(r/2)\n",
    "        if  is_not_one(x, N): \n",
    "            p=np.gcd(int(x-1),N)\n",
    "            q=np.gcd(int(x+1),N) \n",
    "        if p*q==N: \n",
    "            do_they_work=True              \n",
    "                \n",
    "    \n",
    "    return np.array([p,q])\n",
    "\n",
    "\n",
    "shor_algorithm(9)"
   ]
  },
  {
   "cell_type": "code",
   "execution_count": 15,
   "metadata": {},
   "outputs": [
    {
     "name": "stdout",
     "output_type": "stream",
     "text": [
      "[   15    16    17 ... 74997 74998 74999]\n"
     ]
    },
    {
     "ename": "NameError",
     "evalue": "name 'qml' is not defined",
     "output_type": "error",
     "traceback": [
      "\u001b[1;31m---------------------------------------------------------------------------\u001b[0m",
      "\u001b[1;31mNameError\u001b[0m                                 Traceback (most recent call last)",
      "Cell \u001b[1;32mIn[15], line 10\u001b[0m\n\u001b[0;32m      7\u001b[0m \u001b[38;5;28;01mfor\u001b[39;00m i \u001b[38;5;129;01min\u001b[39;00m \u001b[38;5;28mrange\u001b[39m(\u001b[38;5;28mlen\u001b[39m(numbers)):\n\u001b[0;32m      9\u001b[0m     start \u001b[38;5;241m=\u001b[39m time\u001b[38;5;241m.\u001b[39mtime()\n\u001b[1;32m---> 10\u001b[0m     factors\u001b[38;5;241m=\u001b[39mshor_algorithm(numbers[i])\n\u001b[0;32m     11\u001b[0m     end \u001b[38;5;241m=\u001b[39m time\u001b[38;5;241m.\u001b[39mtime()\n\u001b[0;32m     13\u001b[0m     running_time[i]\u001b[38;5;241m=\u001b[39mend\u001b[38;5;241m-\u001b[39mstart\n",
      "Cell \u001b[1;32mIn[14], line 15\u001b[0m, in \u001b[0;36mshor_algorithm\u001b[1;34m(N)\u001b[0m\n\u001b[0;32m     12\u001b[0m     q\u001b[38;5;241m=\u001b[39mN\u001b[38;5;241m/\u001b[39mp\n\u001b[0;32m     13\u001b[0m     \u001b[38;5;28;01mbreak\u001b[39;00m\n\u001b[1;32m---> 15\u001b[0m r\u001b[38;5;241m=\u001b[39mget_period(a,N)\n\u001b[0;32m     16\u001b[0m \u001b[38;5;28;01mif\u001b[39;00m is_odd(r):\u001b[38;5;28;01mcontinue\u001b[39;00m\n\u001b[0;32m     17\u001b[0m x\u001b[38;5;241m=\u001b[39ma\u001b[38;5;241m*\u001b[39m\u001b[38;5;241m*\u001b[39m(r\u001b[38;5;241m/\u001b[39m\u001b[38;5;241m2\u001b[39m)\n",
      "Cell \u001b[1;32mIn[12], line 26\u001b[0m, in \u001b[0;36mget_period\u001b[1;34m(a, N)\u001b[0m\n\u001b[0;32m     24\u001b[0m \u001b[38;5;28;01mdef\u001b[39;00m \u001b[38;5;21mget_period\u001b[39m(a,N):\n\u001b[1;32m---> 26\u001b[0m     dev \u001b[38;5;241m=\u001b[39m qml\u001b[38;5;241m.\u001b[39mdevice(\u001b[38;5;124m'\u001b[39m\u001b[38;5;124mdefault.qubit\u001b[39m\u001b[38;5;124m'\u001b[39m,shots\u001b[38;5;241m=\u001b[39m \u001b[38;5;241m50\u001b[39m, wires\u001b[38;5;241m=\u001b[39mestimation_wires\u001b[38;5;241m+\u001b[39mtarget_wires)\n\u001b[0;32m     29\u001b[0m     \u001b[38;5;129m@qml\u001b[39m\u001b[38;5;241m.\u001b[39mqnode(dev)\n\u001b[0;32m     30\u001b[0m     \u001b[38;5;28;01mdef\u001b[39;00m \u001b[38;5;21mcircuit\u001b[39m(a,N):\n\u001b[0;32m     31\u001b[0m         \u001b[38;5;66;03m#STATE PREPARATION\u001b[39;00m\n\u001b[0;32m     32\u001b[0m         state \u001b[38;5;241m=\u001b[39m get_state(a,N,target_wires,estimation_wires)\n",
      "\u001b[1;31mNameError\u001b[0m: name 'qml' is not defined"
     ]
    }
   ],
   "source": [
    "numbers=np.arange(15,75000)\n",
    "print (numbers)\n",
    "running_time=np.zeros(len(numbers))\n",
    "\n",
    "n_qbits=np.log2(numbers)\n",
    "\n",
    "for i in range(len(numbers)):\n",
    "    \n",
    "    start = time.time()\n",
    "    factors=shor_algorithm(numbers[i])\n",
    "    end = time.time()\n",
    "    \n",
    "    running_time[i]=end-start\n",
    "\n",
    "plt.scatter(n_qbits, running_time, s = 0.3)\n",
    "plt.xlabel('Number of bits')\n",
    "plt.ylabel('Running time')\n",
    "plt.show()"
   ]
  }
 ],
 "metadata": {
  "kernelspec": {
   "display_name": "base",
   "language": "python",
   "name": "python3"
  },
  "language_info": {
   "codemirror_mode": {
    "name": "ipython",
    "version": 3
   },
   "file_extension": ".py",
   "mimetype": "text/x-python",
   "name": "python",
   "nbconvert_exporter": "python",
   "pygments_lexer": "ipython3",
   "version": "3.12.3"
  }
 },
 "nbformat": 4,
 "nbformat_minor": 2
}
