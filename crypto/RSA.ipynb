{
 "cells": [
  {
   "cell_type": "markdown",
   "metadata": {},
   "source": [
    "### Code generation routine"
   ]
  },
  {
   "cell_type": "code",
   "execution_count": 1,
   "metadata": {},
   "outputs": [],
   "source": [
    "import numpy as np\n",
    "import matplotlib.pyplot as plt\n",
    "from fractions import Fraction\n",
    "import time\n",
    "import pennylane as qml"
   ]
  },
  {
   "cell_type": "markdown",
   "metadata": {},
   "source": [
    "Encrypt and decrypt functions"
   ]
  },
  {
   "cell_type": "code",
   "execution_count": null,
   "metadata": {},
   "outputs": [
    {
     "name": "stdout",
     "output_type": "stream",
     "text": [
      "e, d, N =  (3, 62915771, 94393087)\n"
     ]
    }
   ],
   "source": [
    "def create_keys(p, q):\n",
    "    \n",
    "    N=p*q\n",
    "    Theta=(p-1)*(q-1)\n",
    "    \n",
    "    gcd=0\n",
    "    e=1\n",
    "    while gcd!=1:\n",
    "       e+=1\n",
    "       gcd=np.gcd(e,Theta) \n",
    "       # it searchs for a number that is coprime with Theta\n",
    "           \n",
    "    resto=0\n",
    "    d=0\n",
    "    while resto!=1:\n",
    "        d+=1\n",
    "        resto = d*e % Theta\n",
    "        # it searchs for a number d that satisfies the equation d*e mod Theta = 1\n",
    "        \n",
    "    return (e,d,N)\n",
    "\n",
    "print(\"e, d, N = \", create_keys(9803,9629))"
   ]
  },
  {
   "cell_type": "code",
   "execution_count": 3,
   "metadata": {},
   "outputs": [],
   "source": [
    "def encode(e, N, message):\n",
    "    \n",
    "    encoded_message = [ord(char)**e % N for char in message]\n",
    "    # ord(char) returns the ASCII code of the character char\n",
    "    # encoded_message is a list of integers (the encoded message in ASCII code)\n",
    "    return encoded_message\n",
    "\n",
    "def decode(d,N, code):\n",
    "    \n",
    "    message = [chr(character**d % N) for character in code]    \n",
    "    # chr(character) returns the character with ASCII code equal to character\n",
    "    # message is a list of characters (the decoded message)\n",
    "    return ''.join(message)"
   ]
  },
  {
   "cell_type": "markdown",
   "metadata": {},
   "source": [
    "Now we generate two lists with prime numbers, and we will use it to generate the keys, encode a message, and then decode it."
   ]
  },
  {
   "cell_type": "code",
   "execution_count": 6,
   "metadata": {},
   "outputs": [
    {
     "name": "stdout",
     "output_type": "stream",
     "text": [
      "List p: [23, 11, 71, 53, 71]\n",
      "List q: [47, 61, 67, 97, 13]\n",
      "Encoded message:  [1013, 624, 955, 989, 338, 955, 989, 338, 1013, 624, 108, 338, 58, 1019, 51, 338, 747, 955, 347, 108, 338, 532, 818]\n",
      "Decoded message:  this is the RSA file :)\n",
      "Encoded message:  [1335, 246, 1251, 506, 395, 1251, 506, 395, 1335, 246, 326, 395, 101, 1215, 1073, 395, 1003, 1251, 1145, 326, 395, 131, 1064]\n",
      "Decoded message:  this is the RSA file :)\n",
      "Encoded message:  [1105, 1168, 901, 690, 698, 901, 690, 698, 1105, 1168, 1250, 698, 533, 1165, 839, 698, 709, 901, 1409, 1250, 698, 179, 739]\n",
      "Decoded message:  this is the RSA file :)\n",
      "Encoded message:  [1726, 317, 855, 299, 192, 855, 299, 192, 1726, 317, 54, 192, 717, 429, 1069, 192, 1767, 855, 1777, 54, 192, 1030, 371]\n",
      "Decoded message:  this is the RSA file :)\n",
      "Encoded message:  [116, 156, 27, 46, 54, 27, 46, 54, 116, 156, 238, 54, 257, 291, 195, 54, 111, 27, 75, 238, 54, 41, 279]\n",
      "Decoded message:  this is the RSA file :)\n",
      "Encoded message:  [73, 389, 62, 378, 197, 62, 378, 197, 73, 389, 437, 197, 246, 502, 98, 197, 324, 62, 300, 437, 197, 203, 160]\n",
      "Decoded message:  this is the RSA file :)\n",
      "Encoded message:  [481, 124, 580, 201, 395, 580, 201, 395, 481, 124, 326, 395, 223, 239, 219, 395, 515, 580, 169, 326, 395, 9, 332]\n",
      "Decoded message:  this is the RSA file :)\n",
      "Encoded message:  [173, 707, 239, 520, 197, 239, 520, 197, 173, 707, 480, 197, 531, 492, 274, 197, 339, 239, 213, 480, 197, 295, 79]\n",
      "Decoded message:  this is the RSA file :)\n",
      "Encoded message:  [734, 498, 206, 652, 571, 206, 652, 571, 734, 498, 282, 571, 14, 470, 593, 571, 1010, 206, 356, 282, 571, 856, 717]\n",
      "Decoded message:  this is the RSA file :)\n",
      "Encoded message:  [129, 91, 118, 80, 98, 118, 80, 98, 129, 91, 62, 98, 69, 8, 65, 98, 119, 118, 4, 62, 98, 20, 24]\n",
      "Decoded message:  this is the RSA file :)\n",
      "Encoded message:  [2517, 295, 3023, 2540, 2735, 3023, 2540, 2735, 2517, 295, 2505, 2735, 763, 1160, 991, 2735, 42, 3023, 1663, 2505, 2735, 1566, 2181]\n",
      "Decoded message:  this is the RSA file :)\n",
      "Encoded message:  [1298, 1698, 4215, 1128, 2888, 4215, 1128, 2888, 1298, 1698, 1310, 2888, 2411, 3153, 2933, 2888, 407, 4215, 684, 1310, 2888, 2864, 3518]\n",
      "Decoded message:  this is the RSA file :)\n",
      "Encoded message:  [2160, 4258, 3857, 1055, 2647, 3857, 1055, 2647, 2160, 4258, 4731, 2647, 560, 4744, 3064, 2647, 1976, 3857, 2391, 4731, 2647, 790, 381]\n",
      "Decoded message:  this is the RSA file :)\n",
      "Encoded message:  [6339, 4538, 4144, 2122, 5657, 4144, 2122, 5657, 6339, 4538, 4292, 5657, 68, 2656, 4140, 5657, 265, 4144, 968, 4292, 5657, 3645, 5932]\n",
      "Decoded message:  this is the RSA file :)\n",
      "Encoded message:  [233, 65, 807, 773, 687, 807, 773, 687, 233, 65, 316, 687, 920, 242, 377, 687, 123, 807, 400, 316, 687, 24, 891]\n",
      "Decoded message:  this is the RSA file :)\n",
      "Encoded message:  [1530, 1423, 1801, 1365, 385, 1801, 1365, 385, 1530, 1423, 1518, 385, 857, 1348, 615, 385, 42, 1801, 1757, 1518, 385, 814, 1664]\n",
      "Decoded message:  this is the RSA file :)\n",
      "Encoded message:  [1762, 3052, 3020, 567, 2774, 3020, 567, 2774, 1762, 3052, 3071, 2774, 1077, 1825, 1317, 2774, 576, 3020, 1877, 3071, 2774, 2388, 2711]\n",
      "Decoded message:  this is the RSA file :)\n",
      "Encoded message:  [837, 498, 3179, 1226, 1033, 3179, 1226, 1033, 837, 498, 3394, 1033, 1739, 1567, 1375, 1033, 3322, 3179, 2682, 3394, 1033, 581, 1275]\n",
      "Decoded message:  this is the RSA file :)\n",
      "Encoded message:  [5024, 2936, 370, 590, 4266, 370, 590, 4266, 5024, 2936, 4613, 4266, 2269, 1302, 2912, 4266, 1573, 370, 4590, 4613, 4266, 157, 3766]\n",
      "Decoded message:  this is the RSA file :)\n",
      "Encoded message:  [519, 286, 105, 7, 132, 105, 7, 132, 519, 286, 108, 132, 361, 83, 156, 132, 566, 105, 244, 108, 132, 210, 162]\n",
      "Decoded message:  this is the RSA file :)\n",
      "Encoded message:  [2517, 295, 3023, 2540, 2735, 3023, 2540, 2735, 2517, 295, 2505, 2735, 763, 1160, 991, 2735, 42, 3023, 1663, 2505, 2735, 1566, 2181]\n",
      "Decoded message:  this is the RSA file :)\n",
      "Encoded message:  [1298, 1698, 4215, 1128, 2888, 4215, 1128, 2888, 1298, 1698, 1310, 2888, 2411, 3153, 2933, 2888, 407, 4215, 684, 1310, 2888, 2864, 3518]\n",
      "Decoded message:  this is the RSA file :)\n",
      "Encoded message:  [2160, 4258, 3857, 1055, 2647, 3857, 1055, 2647, 2160, 4258, 4731, 2647, 560, 4744, 3064, 2647, 1976, 3857, 2391, 4731, 2647, 790, 381]\n",
      "Decoded message:  this is the RSA file :)\n",
      "Encoded message:  [6339, 4538, 4144, 2122, 5657, 4144, 2122, 5657, 6339, 4538, 4292, 5657, 68, 2656, 4140, 5657, 265, 4144, 968, 4292, 5657, 3645, 5932]\n",
      "Decoded message:  this is the RSA file :)\n",
      "Encoded message:  [233, 65, 807, 773, 687, 807, 773, 687, 233, 65, 316, 687, 920, 242, 377, 687, 123, 807, 400, 316, 687, 24, 891]\n",
      "Decoded message:  this is the RSA file :)\n"
     ]
    }
   ],
   "source": [
    "import random\n",
    "import sympy\n",
    "\n",
    "P=[]\n",
    "Q=[]\n",
    "\n",
    "for i in range(5):\n",
    "    P.append(sympy.randprime(1, 100))\n",
    "    Q.append(sympy.randprime(1, 100))\n",
    "\n",
    "\n",
    "print(\"List p:\", P)\n",
    "print(\"List q:\", Q)\n",
    "\n",
    "for p in P:\n",
    "    for q in Q:\n",
    "        e,d,N=create_keys(p,q)\n",
    "        message = encode(e,N,\"this is the RSA file :)\")\n",
    "        print(\"Encoded message: \", message)\n",
    "        print(\"Decoded message: \", decode(d,N,message))"
   ]
  },
  {
   "cell_type": "code",
   "execution_count": 7,
   "metadata": {},
   "outputs": [],
   "source": [
    "p = 9803\n",
    "q = 9629"
   ]
  },
  {
   "cell_type": "code",
   "execution_count": 8,
   "metadata": {},
   "outputs": [
    {
     "name": "stdout",
     "output_type": "stream",
     "text": [
      "Factors of 15:  [9629 9803]\n",
      "Factors of 2*3*5*7:  [2 3 5 7]\n"
     ]
    }
   ],
   "source": [
    "def classical_factoring(N):    \n",
    "\n",
    "        f=2\n",
    "        factors=[]\n",
    "        while N > 1:   \n",
    "            if N % f == 0:      \n",
    "                factors.append(f)\n",
    "                N //= f    \n",
    "            else:            \n",
    "                f += 1 \n",
    "        # returns a list of prime factors of N\n",
    "        return np.array(factors)\n",
    "    \n",
    "print(\"Factors of 15: \", classical_factoring(p*q))\n",
    "print(\"Factors of 2*3*5*7: \", classical_factoring(2*3*5*7))"
   ]
  },
  {
   "cell_type": "markdown",
   "metadata": {},
   "source": [
    "### Running time of factoring numbers"
   ]
  },
  {
   "cell_type": "code",
   "execution_count": 9,
   "metadata": {},
   "outputs": [
    {
     "data": {
      "image/png": "[encoded data removed]",
      "text/plain": [
       "<Figure size 640x480 with 1 Axes>"
      ]
     },
     "metadata": {},
     "output_type": "display_data"
    }
   ],
   "source": [
    "numbers=np.arange(1.,75000.)\n",
    "running_time=np.zeros(len(numbers))\n",
    "\n",
    "n_bits=np.log2(numbers)\n",
    "\n",
    "for i in range(len(numbers)):\n",
    "    \n",
    "    start = time.time()\n",
    "    factors=classical_factoring(numbers[i])\n",
    "    end = time.time()\n",
    "    \n",
    "    running_time[i]=end-start\n",
    "    \n",
    "plt.scatter(n_bits, running_time, s = 0.3)\n",
    "plt.xlabel('Number of bits')\n",
    "plt.ylabel('Running time')\n",
    "plt.show()"
   ]
  },
  {
   "cell_type": "markdown",
   "metadata": {},
   "source": [
    "### Quantum functions"
   ]
  },
  {
   "cell_type": "code",
   "execution_count": 10,
   "metadata": {},
   "outputs": [],
   "source": [
    "estimation_wires = 8\n",
    "target_wires = 6\n",
    "\n",
    "def get_state(a, N, target_wires, estimation_wires):\n",
    "        \n",
    "    # a (int): Random guess\n",
    "    # N (int): Number to factorize\n",
    "        \n",
    "    vec = np.zeros( 2**(target_wires+estimation_wires) )\n",
    "    \n",
    "    #  |i>|x^i mod (N)>\n",
    "    for i in range(2**estimation_wires):\n",
    "        #  |j>\n",
    "        s1 = np.binary_repr(i, estimation_wires) # return the binary representation of i in estimation_wires bits\n",
    "        # |a^i mod (N)> \n",
    "        s2 = np.binary_repr(a**i % N, target_wires)\n",
    "    \n",
    "        # Set state       \n",
    "        vec[int(s2+s1,2)] = 1 # convert the binary string s2+s1 to an integer in base 2\n",
    "        \n",
    "    return vec/np.linalg.norm(vec)\n",
    "\n",
    "\n",
    "def get_period(a,N):\n",
    "    \n",
    "    dev = qml.device('default.qubit',shots= 50, wires=estimation_wires+target_wires)\n",
    "    \n",
    "    @qml.qnode(dev)\n",
    "    def circuit(a,N):\n",
    "        #STATE PREPARATION\n",
    "        state = get_state(a,N,target_wires,estimation_wires)\n",
    "        qml.QubitStateVector(state, wires=range(estimation_wires+target_wires))      \n",
    "        # QFT^+\n",
    "        qml.adjoint(qml.QFT(wires=range(estimation_wires)))\n",
    "        \n",
    "        return qml.sample(wires=range(estimation_wires))\n",
    "    \n",
    "    # Outcomes\n",
    "    phases = []\n",
    "    periods = []\n",
    "    \n",
    "    result = circuit(a,N)\n",
    "    \n",
    "    # Binary output to decimal\n",
    "    for output in result:\n",
    "        binary = \"\".join([str(b) for b in output])\n",
    "        phases.append(int(binary,2)/2**estimation_wires)\n",
    "    \n",
    "    # Denominator for each phase\n",
    "    for phase in phases:\n",
    "        fraction = Fraction(phase).limit_denominator(N)\n",
    "        # Possibles r\n",
    "        for i in range(1,6):\n",
    "            periods.append(fraction.denominator*i)\n",
    "    \n",
    "    # Best candidate for r\n",
    "    best = np.argmax(np.bincount(periods))\n",
    "    return best"
   ]
  },
  {
   "cell_type": "markdown",
   "metadata": {},
   "source": [
    "Funcions needed for the Shor's algorythm"
   ]
  },
  {
   "cell_type": "code",
   "execution_count": 11,
   "metadata": {},
   "outputs": [],
   "source": [
    "def is_coprime(a, N):      \n",
    "    return np.gcd(a,N)==1\n",
    "\n",
    "def is_odd(r):\n",
    "    return r/2!=int(r/2)\n",
    "\n",
    "def is_not_one(x, N):\n",
    "    # return if x^2 mod N is not 1 or -1\n",
    "    return (x**2 % N)!=1 and (x**2 % N)!=-1"
   ]
  },
  {
   "cell_type": "code",
   "execution_count": 12,
   "metadata": {},
   "outputs": [
    {
     "data": {
      "text/plain": [
       "array([3., 3.])"
      ]
     },
     "execution_count": 12,
     "metadata": {},
     "output_type": "execute_result"
    }
   ],
   "source": [
    "import numpy as np\n",
    "import sympy\n",
    "\n",
    "def shor_algorithm(N):\n",
    "    p=0\n",
    "    q=0\n",
    "    do_they_work=False\n",
    "    while p <= 1 or q<=1 or do_they_work==False:\n",
    "        a=np.random.choice(range(2,N-2))\n",
    "        if not is_coprime(a, N):\n",
    "            p=np.gcd(a,N)\n",
    "            q=N/p\n",
    "            break\n",
    "    \n",
    "        r=get_period(a,N)\n",
    "        if is_odd(r):continue\n",
    "        x=a**(r/2)\n",
    "        if  is_not_one(x, N): \n",
    "            p=np.gcd(int(x-1),N)\n",
    "            q=np.gcd(int(x+1),N) \n",
    "        if p*q==N: \n",
    "            do_they_work=True              \n",
    "                \n",
    "    \n",
    "    return np.array([p,q])\n",
    "\n",
    "\n",
    "shor_algorithm(9)"
   ]
  },
  {
   "cell_type": "code",
   "execution_count": null,
   "metadata": {},
   "outputs": [],
   "source": [
    "numbers=np.arange(15,75000)\n",
    "print (numbers)\n",
    "running_time=np.zeros(len(numbers))\n",
    "\n",
    "n_qbits=np.log2(numbers)\n",
    "\n",
    "for i in range(len(numbers)):\n",
    "    \n",
    "    start = time.time()\n",
    "    factors=shor_algorithm(numbers[i])\n",
    "    end = time.time()\n",
    "    \n",
    "    running_time[i]=end-start\n",
    "\n",
    "plt.scatter(n_qbits, running_time, s = 0.3)\n",
    "plt.xlabel('Number of bits')\n",
    "plt.ylabel('Running time')\n",
    "plt.show()"
   ]
  }
 ],
 "metadata": {
  "kernelspec": {
   "display_name": "qiskit-env",
   "language": "python",
   "name": "python3"
  },
  "language_info": {
   "codemirror_mode": {
    "name": "ipython",
    "version": 3
   },
   "file_extension": ".py",
   "mimetype": "text/x-python",
   "name": "python",
   "nbconvert_exporter": "python",
   "pygments_lexer": "ipython3",
   "version": "3.12.3"
  }
 },
 "nbformat": 4,
 "nbformat_minor": 2
}
