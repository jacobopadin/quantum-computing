{
 "cells": [
  {
   "cell_type": "markdown",
   "metadata": {},
   "source": [
    "# Learning Qiskit basics"
   ]
  },
  {
   "cell_type": "markdown",
   "metadata": {},
   "source": [
    "QuantumRegister = circuit's qubits\n",
    "\n",
    "ClassicalRegister = classical bits in which we will save the qubit's measurements"
   ]
  },
  {
   "cell_type": "code",
   "execution_count": 3,
   "metadata": {},
   "outputs": [],
   "source": [
    "from qiskit import QuantumRegister, ClassicalRegister\n",
    "\n",
    "n=3\n",
    "\n",
    "q = QuantumRegister(n)\n",
    "c = ClassicalRegister(n)  "
   ]
  },
  {
   "cell_type": "markdown",
   "metadata": {},
   "source": [
    "QuantumCircuit build the circuit composed of the classical and quantum bits"
   ]
  },
  {
   "cell_type": "code",
   "execution_count": 8,
   "metadata": {},
   "outputs": [
    {
     "data": {
      "text/html": [
       "<pre style=\"word-wrap: normal;white-space: pre;background: #fff0;line-height: 1.1;font-family: &quot;Courier New&quot;,Courier,monospace\">      \n",
       "q0_0: \n",
       "      \n",
       "q0_1: \n",
       "      \n",
       "q0_2: \n",
       "      \n",
       "c0: 3/\n",
       "      </pre>"
      ],
      "text/plain": [
       "      \n",
       "q0_0: \n",
       "      \n",
       "q0_1: \n",
       "      \n",
       "q0_2: \n",
       "      \n",
       "c0: 3/\n",
       "      "
      ]
     },
     "metadata": {},
     "output_type": "display_data"
    },
    {
     "data": {
      "image/png": "[encoded data removed]",
      "text/plain": [
       "<Figure size 180.108x367.889 with 1 Axes>"
      ]
     },
     "metadata": {},
     "output_type": "display_data"
    }
   ],
   "source": [
    "from qiskit import QuantumCircuit\n",
    "\n",
    "circuit = QuantumCircuit(q,c)\n",
    "\n",
    "display(circuit.draw())\n",
    "\n",
    "# use \"mpl\" for plotting with matplotlib\n",
    "display(circuit.draw(output=\"mpl\"))\n"
   ]
  },
  {
   "cell_type": "code",
   "execution_count": 9,
   "metadata": {},
   "outputs": [
    {
     "data": {
      "image/png": "[encoded data removed]",
      "text/plain": [
       "<Figure size 472.747x367.889 with 1 Axes>"
      ]
     },
     "execution_count": 9,
     "metadata": {},
     "output_type": "execute_result"
    }
   ],
   "source": [
    "# hadamard gate on qubit 0\n",
    "circuit.h(0)\n",
    "\n",
    "# control-x, being control on 0 and target on 1\n",
    "circuit.cx(0,1)\n",
    "\n",
    "# measure qubits 0,1 and save on bits 0,1  \n",
    "circuit.measure([0,1], [0,1])\n",
    "\n",
    "circuit.draw(output='mpl')"
   ]
  },
  {
   "cell_type": "markdown",
   "metadata": {},
   "source": [
    "## Running on a simulator"
   ]
  },
  {
   "cell_type": "code",
   "execution_count": null,
   "metadata": {},
   "outputs": [],
   "source": [
    "from qiskit_aer import AerSimulator\n",
    "\n",
    "# class AerSimulator(configuration=None, \n",
    "                    # properties=None, \n",
    "                    # provider=None, \n",
    "                    # target=None, \n",
    "                    # **backend_options)\n",
    "\n",
    "simulator = AerSimulator()"
   ]
  },
  {
   "cell_type": "markdown",
   "metadata": {},
   "source": [
    "The method 'available_methods()' gives all the methods we can use to do the simulation"
   ]
  },
  {
   "cell_type": "code",
   "execution_count": 17,
   "metadata": {},
   "outputs": [
    {
     "data": {
      "text/plain": [
       "('automatic',\n",
       " 'statevector',\n",
       " 'density_matrix',\n",
       " 'stabilizer',\n",
       " 'matrix_product_state',\n",
       " 'extended_stabilizer',\n",
       " 'unitary',\n",
       " 'superop')"
      ]
     },
     "execution_count": 17,
     "metadata": {},
     "output_type": "execute_result"
    }
   ],
   "source": [
    "simulator.available_methods()"
   ]
  },
  {
   "cell_type": "markdown",
   "metadata": {},
   "source": [
    "From the API documentation:\n",
    "\n",
    "\"automatic\": Default simulation method. Select the simulation method automatically based on the circuit and noise model.\n",
    "\n",
    "\"statevector\": A dense statevector simulation that can sample measurement outcomes from ideal circuits with all measurements at end of the circuit. For noisy simulations each shot samples a randomly sampled noisy circuit from the noise model.\n",
    "\n",
    "\"density_matrix\": A dense density matrix simulation that may sample measurement outcomes from noisy circuits with all measurements at end of the circuit.\n",
    "\n",
    "\"stabilizer\": An efficient Clifford stabilizer state simulator that can simulate noisy Clifford circuits if all errors in the noise model are also Clifford errors.\n",
    "\n",
    "\"extended_stabilizer\": An approximate simulated for Clifford + T circuits based on a state decomposition into ranked-stabilizer state. The number of terms grows with the number of non-Clifford (T) gates.\n",
    "\n",
    "\"matrix_product_state\": A tensor-network statevector simulator that uses a Matrix Product State (MPS) representation for the state. This can be done either with or without truncation of the MPS bond dimensions depending on the simulator options. The default behaviour is no truncation.\n",
    "\n",
    "\"unitary\": A dense unitary matrix simulation of an ideal circuit. This simulates the unitary matrix of the circuit itself rather than the evolution of an initial quantum state. This method can only simulate gates, it does not support measurement, reset, or noise.\n",
    "\n",
    "\"superop\": A dense superoperator matrix simulation of an ideal or noisy circuit. This simulates the superoperator matrix of the circuit itself rather than the evolution of an initial quantum state. This method can simulate ideal and noisy gates, and reset, but does not support measurement.\n",
    "\n",
    "\"tensor_network\": A tensor-network based simulation that supports both statevector and density matrix. Currently there is only available for GPU and accelerated by using cuTensorNet APIs of cuQuantum."
   ]
  },
  {
   "cell_type": "markdown",
   "metadata": {},
   "source": [
    "If we initialize the class without any parameter, the simulation will not include any noise model"
   ]
  },
  {
   "cell_type": "code",
   "execution_count": 48,
   "metadata": {},
   "outputs": [
    {
     "name": "stdout",
     "output_type": "stream",
     "text": [
      "False\n",
      "AerSimulator('aer_simulator')\n",
      "False\n",
      "<concurrent.futures.thread.ThreadPoolExecutor object at 0x7f6d79302210>\n"
     ]
    }
   ],
   "source": [
    "job = simulator.run(circuit)\n",
    "# job is an AerJob\n",
    "\n",
    "# methods of AerJob\n",
    "print(job.done())\n",
    "print(job.backend())\n",
    "print(job.running())\n",
    "print(job.executor())"
   ]
  },
  {
   "cell_type": "markdown",
   "metadata": {},
   "source": [
    "The simulation is done using the method run from AerSimulator() class. We can obtain the results of the simulation running the method .result()"
   ]
  },
  {
   "cell_type": "code",
   "execution_count": 53,
   "metadata": {},
   "outputs": [
    {
     "data": {
      "image/png": "[encoded data removed]",
      "text/plain": [
       "<Figure size 640x480 with 1 Axes>"
      ]
     },
     "execution_count": 53,
     "metadata": {},
     "output_type": "execute_result"
    }
   ],
   "source": [
    "counts = job.result().get_counts()\n",
    "\n",
    "from qiskit.visualization import plot_histogram\n",
    "plot_histogram(counts)"
   ]
  },
  {
   "cell_type": "markdown",
   "metadata": {},
   "source": [
    "## Running on real quantum hardware"
   ]
  },
  {
   "cell_type": "code",
   "execution_count": 1,
   "metadata": {},
   "outputs": [],
   "source": [
    "from qiskit_ibm_runtime import QiskitRuntimeService\n",
    "\n",
    "'''\n",
    "QiskitRuntimeService.save_account(channel='ibm_cloud', \n",
    "                               token='IBM cloud API key', \n",
    "                               instance='IBM cloud CRN',\n",
    "                               name='learning-qiskit',\n",
    "                               set_as_default=True)\n",
    "'''\n"
   ]
  },
  {
   "cell_type": "code",
   "execution_count": 3,
   "metadata": {},
   "outputs": [],
   "source": [
    "service = QiskitRuntimeService(name = 'learning-qiskit')"
   ]
  },
  {
   "cell_type": "code",
   "execution_count": 70,
   "metadata": {},
   "outputs": [
    {
     "name": "stdout",
     "output_type": "stream",
     "text": [
      "ibmq_qasm_simulator\n",
      "simulator_extended_stabilizer\n",
      "simulator_mps\n",
      "simulator_stabilizer\n",
      "simulator_statevector\n"
     ]
    }
   ],
   "source": [
    "for backend in service.backends():\n",
    "    print(backend.name)"
   ]
  },
  {
   "cell_type": "code",
   "execution_count": 100,
   "metadata": {},
   "outputs": [
    {
     "name": "stdout",
     "output_type": "stream",
     "text": [
      "job id: ctfd99hvrf7pptepkqog\n"
     ]
    },
    {
     "data": {
      "image/png": "[encoded data removed]",
      "text/plain": [
       "<Figure size 640x480 with 1 Axes>"
      ]
     },
     "execution_count": 100,
     "metadata": {},
     "output_type": "execute_result"
    }
   ],
   "source": [
    "from qiskit import QuantumCircuit\n",
    "from qiskit_ibm_runtime import QiskitRuntimeService, SamplerV2 as Sampler\n",
    "\n",
    "\n",
    "n = 3\n",
    "\n",
    "q = QuantumRegister(n)\n",
    "circ = QuantumCircuit(q)\n",
    "\n",
    "# Uniform superposition\n",
    "for j in range(n):\n",
    "    circ.h(q[j])\n",
    "    \n",
    "circ.measure_all()\n",
    "\n",
    "# You'll need to specify the credentials when initializing QiskitRuntimeService, if they were not previously saved.\n",
    "service = QiskitRuntimeService(channel='ibm_cloud', \n",
    "                               token='', \n",
    "                               instance=''\n",
    "                               )\n",
    "\n",
    "backend = service.backend(name='ibmq_qasm_simulator')\n",
    "\n",
    "sampler = Sampler(backend)\n",
    "job = sampler.run([circ])\n",
    "print(f\"job id: {job.job_id()}\")\n",
    "result = job.result()\n",
    "\n",
    "counts = result[0].data.meas.get_counts()\n",
    "\n",
    "plot_histogram(counts)"
   ]
  }
 ],
 "metadata": {
  "kernelspec": {
   "display_name": "qiskit-env",
   "language": "python",
   "name": "python3"
  },
  "language_info": {
   "codemirror_mode": {
    "name": "ipython",
    "version": 3
   },
   "file_extension": ".py",
   "mimetype": "text/x-python",
   "name": "python",
   "nbconvert_exporter": "python",
   "pygments_lexer": "ipython3",
   "version": "3.12.3"
  }
 },
 "nbformat": 4,
 "nbformat_minor": 2
}
